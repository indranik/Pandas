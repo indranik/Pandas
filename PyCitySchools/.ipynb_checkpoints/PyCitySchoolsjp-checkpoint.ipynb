{
 "cells": [
  {
   "cell_type": "code",
   "execution_count": null,
   "metadata": {
    "collapsed": true
   },
   "outputs": [],
   "source": []
  }
 ],
 "metadata": {
  "kernelspec": {
   "display_name": "Python [conda env:PythonData_3]",
   "language": "python",
   "name": "conda-env-PythonData_3-py"
  }
 },
 "nbformat": 4,
 "nbformat_minor": 2
}
